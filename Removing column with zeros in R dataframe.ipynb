{
 "cells": [
  {
   "cell_type": "code",
   "execution_count": 4,
   "id": "a0e06e15",
   "metadata": {},
   "outputs": [],
   "source": [
    "library(rbenchmark) # for benchmarking\n",
    "library(readr) # for reading CSVs"
   ]
  },
  {
   "cell_type": "code",
   "execution_count": 5,
   "id": "d761826c",
   "metadata": {},
   "outputs": [],
   "source": [
    "removeZeroVar1 <- function(df){\n",
    "  df[, sapply(df, var) != 0]\n",
    "}"
   ]
  },
  {
   "cell_type": "code",
   "execution_count": 6,
   "id": "625666e1",
   "metadata": {},
   "outputs": [],
   "source": [
    "removeZeroVar2 <- function(df){\n",
    "  df[, sapply(df, function(x) length(unique(x)) > 1)]\n",
    "}"
   ]
  },
  {
   "cell_type": "code",
   "execution_count": 7,
   "id": "d8453a7d",
   "metadata": {},
   "outputs": [],
   "source": [
    "removeZeroVar3 <- function(df){\n",
    "  df[, !sapply(df, function(x) min(x) == max(x))]\n",
    "}\n"
   ]
  },
  {
   "cell_type": "code",
   "execution_count": null,
   "id": "f0a9a70b-293b-44b5-8499-40294b9fb34c",
   "metadata": {},
   "outputs": [],
   "source": [
    "# Create a dataframe with some columns containing only zeros\n",
    "\n",
    "# Sample data\n",
    "id <- 1:10\n",
    "age <- c(23, 45, 34, 28, 67, 54, 31, 40, 52, 29)\n",
    "zeros1 <- rep(0, 10)\n",
    "zeros2 <- rep(0, 10)\n",
    "score <- c(89, 76, 91, 85, 88, 77, 92, 84, 79, 80)\n",
    "\n",
    "# Combine into a dataframe\n",
    "df <- data.frame(id, age, zeros1, zeros2, score)\n",
    "\n",
    "# Print the dataframe\n",
    "print(df)\n"
   ]
  },
  {
   "cell_type": "markdown",
   "id": "57f71b4c",
   "metadata": {},
   "source": [
    "df is the dataframe"
   ]
  },
  {
   "cell_type": "code",
   "execution_count": null,
   "id": "589d17f9-2ec8-421c-b060-a7c6d776f2b3",
   "metadata": {},
   "outputs": [],
   "source": [
    "# import data set\n",
    "mnist <- read_csv(\"mnist_reduced.csv\", \n",
    "                  col_names = c(\"Label\", paste0(\"P\", 1:28^2)),\n",
    "                  col_types = cols(.default = \"i\"))\n",
    "\n",
    "# get the dimensions of the data\n",
    "dim(mnist)"
   ]
  },
  {
   "cell_type": "code",
   "execution_count": 8,
   "id": "26ddab1a",
   "metadata": {},
   "outputs": [
    {
     "ename": "ERROR",
     "evalue": "Error in eval(expr, envir, enclos): object 'mnist' not found\n",
     "output_type": "error",
     "traceback": [
      "Error in eval(expr, envir, enclos): object 'mnist' not found\nTraceback:\n",
      "1. benchmark(`Variance Method` = removeZeroVar1(mnist), `Unique Values Method` = removeZeroVar2(mnist), \n .     `Min-Max Method` = removeZeroVar3(mnist), columns = c(\"test\", \n .         \"replications\", \"elapsed\", \"relative\"), order = \"elapsed\", \n .     replications = 100)",
      "2. removeZeroVar1(mnist)"
     ]
    }
   ],
   "source": [
    "benchmark(\n",
    "  'Variance Method' = removeZeroVar1(mnist),\n",
    "  'Unique Values Method' = removeZeroVar2(mnist),\n",
    "  'Min-Max Method' = removeZeroVar3(mnist),\n",
    "  columns = c(\"test\", \"replications\", \"elapsed\", \"relative\"), \n",
    "  order = \"elapsed\",\n",
    "  replications = 100\n",
    ")"
   ]
  },
  {
   "cell_type": "code",
   "execution_count": null,
   "id": "1ec8fdac",
   "metadata": {},
   "outputs": [],
   "source": [
    "##https://www.ttested.com/removing-zero-variance-columns/"
   ]
  },
  {
   "cell_type": "code",
   "execution_count": 3,
   "id": "f9500a71",
   "metadata": {},
   "outputs": [],
   "source": [
    "#install.packages('rbenchmark') "
   ]
  },
  {
   "cell_type": "code",
   "execution_count": null,
   "id": "92a3e1c9",
   "metadata": {},
   "outputs": [],
   "source": []
  }
 ],
 "metadata": {
  "kernelspec": {
   "display_name": "R",
   "language": "R",
   "name": "ir"
  },
  "language_info": {
   "codemirror_mode": "r",
   "file_extension": ".r",
   "mimetype": "text/x-r-source",
   "name": "R",
   "pygments_lexer": "r",
   "version": "4.3.2"
  }
 },
 "nbformat": 4,
 "nbformat_minor": 5
}
